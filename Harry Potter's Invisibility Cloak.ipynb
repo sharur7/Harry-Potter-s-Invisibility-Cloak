{
 "cells": [
  {
   "cell_type": "code",
   "execution_count": 56,
   "metadata": {},
   "outputs": [],
   "source": [
    "import numpy as np\n",
    "import cv2\n",
    "import time"
   ]
  },
  {
   "cell_type": "code",
   "execution_count": 57,
   "metadata": {},
   "outputs": [],
   "source": [
    "cap = cv2.VideoCapture(0) #Video Capturing 0th web cam if you want to add any other video add the adress in single quotes\n"
   ]
  },
  {
   "cell_type": "code",
   "execution_count": 58,
   "metadata": {},
   "outputs": [],
   "source": [
    "time.sleep(2)\n",
    "background = 0"
   ]
  },
  {
   "cell_type": "code",
   "execution_count": 59,
   "metadata": {},
   "outputs": [],
   "source": [
    "for i in range(30): #30 iteraions enough to capture backgroud\n",
    "    ret, backgroud = cap.read() #capturing the backgroud and returning the true value"
   ]
  },
  {
   "cell_type": "code",
   "execution_count": 60,
   "metadata": {},
   "outputs": [],
   "source": [
    "while(cap.isOpened()):\n",
    "    ret, img = cap.read() #reading the image\n",
    "    if not ret:\n",
    "        break\n",
    "#Converting BGR to HSV\n",
    "    hsv = cv2.cvtColor(img, cv2.COLOR_BGR2HSV)\n",
    "   #****************************************************************************************************\n",
    "\n",
    "##RED\n",
    "\n",
    "    #lower_red = np.array([0, 120, 70])\n",
    "    #upper_red = np.array([10, 255, 255])\n",
    "    #mask1 = cv2.inRange(hsv, lower_red, upper_red) #Separating the cloak part\n",
    "    \n",
    "    \n",
    "    #lower_red = np.array([170, 120, 70])\n",
    "    #upper_red = np.array([180, 255, 255])\n",
    "    #mask2 = cv2.inRange(hsv, lower_red, upper_red)\n",
    "    \n",
    "    \n",
    "   #**************************************************************************************************** \n",
    "\n",
    "###BLUE\n",
    "    \n",
    "    #lower_blue = np.array([94, 80, 2])\n",
    "    #upper_blue = np.array([126, 255, 255])\n",
    "    #mask1 = cv2.inRange(hsv, lower_blue, upper_blue) #Separating the cloak part\n",
    "    \n",
    "    \n",
    "    #lower_blue = np.array([180, 80, 2])\n",
    "    #upper_blue = np.array([230, 255, 255])\n",
    "    #mask2 = cv2.inRange(hsv, lower_blue, upper_blue)\n",
    "    \n",
    "    #****************************************************************************************************\n",
    "\n",
    "###GREEN\n",
    "\n",
    "    #lower_green = np.array([25, 52, 72])\n",
    "    #upper_green = np.array([102, 255, 255])\n",
    "    #mask1 = cv2.inRange(hsv, lower_green, upper_green) #Separating the cloak part\n",
    "    \n",
    "    \n",
    "    #lower_green = np.array([123, 100, 80])\n",
    "    #upper_green = np.array([135, 255, 255])\n",
    "    #mask2 = cv2.inRange(hsv, lower_green, upper_green)\n",
    "    \n",
    "\n",
    "    #****************************************************************************************************\n",
    "    \n",
    "    \n",
    "    \n",
    "    mask1 = mask1 + mask2\n",
    "    \n",
    "    mask1 = cv2.morphologyEx(mask1, cv2.MORPH_OPEN, np.ones((3,3), np.uint8), iterations=2) #Noise Removal\n",
    "    mask1 = cv2.morphologyEx(mask1, cv2.MORPH_DILATE, np.ones((3,3), np.uint8), iterations=1)\n",
    "    \n",
    "    mask2 = cv2.bitwise_not(mask1) #Except the cloak\n",
    "    \n",
    "    res1 = cv2.bitwise_and(backgroud, backgroud, mask=mask1) #Used for segmentation of colors\n",
    "    res2 = cv2.bitwise_and(img, img, mask=mask2) #Used to substitute cloak part\n",
    "    final_output = cv2.addWeighted(res1, 1, res2, 1, 0)\n",
    "    \n",
    "    cv2.imshow('Eureka!', final_output)\n",
    "    k = cv2.waitKey(10)\n",
    "    if k == 27:\n",
    "        break\n",
    "cap.release()\n",
    "cv2.destroyAllWindows()"
   ]
  },
  {
   "cell_type": "code",
   "execution_count": null,
   "metadata": {},
   "outputs": [],
   "source": []
  }
 ],
 "metadata": {
  "kernelspec": {
   "display_name": "Python 3",
   "language": "python",
   "name": "python3"
  },
  "language_info": {
   "codemirror_mode": {
    "name": "ipython",
    "version": 3
   },
   "file_extension": ".py",
   "mimetype": "text/x-python",
   "name": "python",
   "nbconvert_exporter": "python",
   "pygments_lexer": "ipython3",
   "version": "3.7.6"
  }
 },
 "nbformat": 4,
 "nbformat_minor": 4
}
